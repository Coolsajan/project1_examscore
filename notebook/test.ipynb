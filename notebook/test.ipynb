{
 "cells": [
  {
   "cell_type": "markdown",
   "id": "03b7a0c3",
   "metadata": {},
   "source": [
    "## *Testing Kaggle Package*"
   ]
  },
  {
   "cell_type": "code",
   "execution_count": 7,
   "id": "9c59643a",
   "metadata": {},
   "outputs": [],
   "source": [
    "import os\n",
    "\n",
    "os.environ['KAGGLE_USERNAME'] = \"thapasajan\"\n",
    "os.environ['KAGGLE_KEY'] = \"0a1578d42d9b495341580603ff412841\"\n"
   ]
  },
  {
   "cell_type": "code",
   "execution_count": 11,
   "id": "2792215a",
   "metadata": {},
   "outputs": [],
   "source": [
    "import kaggle\n",
    "\n",
    "kaggle.api.authenticate()"
   ]
  },
  {
   "cell_type": "code",
   "execution_count": 17,
   "id": "a8dd8248",
   "metadata": {},
   "outputs": [
    {
     "name": "stdout",
     "output_type": "stream",
     "text": [
      "Dataset URL: https://www.kaggle.com/datasets/lainguyn123/student-performance-factors\n"
     ]
    }
   ],
   "source": [
    "a = kaggle.api.dataset_download_files(\"lainguyn123/student-performance-factors\",path=\".\",unzip=True)"
   ]
  },
  {
   "cell_type": "code",
   "execution_count": null,
   "id": "e183689c",
   "metadata": {},
   "outputs": [],
   "source": []
  }
 ],
 "metadata": {
  "kernelspec": {
   "display_name": "venv",
   "language": "python",
   "name": "python3"
  },
  "language_info": {
   "codemirror_mode": {
    "name": "ipython",
    "version": 3
   },
   "file_extension": ".py",
   "mimetype": "text/x-python",
   "name": "python",
   "nbconvert_exporter": "python",
   "pygments_lexer": "ipython3",
   "version": "3.10.11"
  }
 },
 "nbformat": 4,
 "nbformat_minor": 5
}
