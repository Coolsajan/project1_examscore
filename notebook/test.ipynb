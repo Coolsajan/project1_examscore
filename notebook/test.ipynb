{
 "cells": [
  {
   "cell_type": "markdown",
   "id": "03b7a0c3",
   "metadata": {},
   "source": [
    "## *Testing Kaggle Package*"
   ]
  },
  {
   "cell_type": "code",
   "execution_count": 62,
   "id": "4c307de6",
   "metadata": {},
   "outputs": [],
   "source": [
    "import pandas as pd\n"
   ]
  },
  {
   "cell_type": "code",
   "execution_count": 63,
   "id": "ee503341",
   "metadata": {},
   "outputs": [],
   "source": [
    "from evidently import Report,Dataset\n",
    "from evidently.presets import DataDriftPreset , DataSummaryPreset"
   ]
  },
  {
   "cell_type": "code",
   "execution_count": 64,
   "id": "249503ec",
   "metadata": {},
   "outputs": [],
   "source": [
    "refrence_df = pd.read_csv(\"train.csv\")\n",
    "current_df = pd.read_csv(\"test.csv\")"
   ]
  },
  {
   "cell_type": "code",
   "execution_count": 65,
   "id": "c4c6f71c",
   "metadata": {},
   "outputs": [],
   "source": [
    "profile = Report(metrics=[DataDriftPreset()])"
   ]
  },
  {
   "cell_type": "code",
   "execution_count": 66,
   "id": "87b85a69",
   "metadata": {},
   "outputs": [
    {
     "name": "stdout",
     "output_type": "stream",
     "text": [
      "False\n",
      "False\n"
     ]
    }
   ],
   "source": [
    "print(hasattr(profile, \"json\"))\n",
    "print(hasattr(profile, \"as_dict\"))"
   ]
  },
  {
   "cell_type": "code",
   "execution_count": 67,
   "id": "0caf7d03",
   "metadata": {},
   "outputs": [],
   "source": [
    "report = profile.run(current_data=current_df,reference_data=refrence_df)"
   ]
  },
  {
   "cell_type": "code",
   "execution_count": 68,
   "id": "d261bb2f",
   "metadata": {},
   "outputs": [
    {
     "name": "stdout",
     "output_type": "stream",
     "text": [
      "0.7.12\n"
     ]
    }
   ],
   "source": [
    "import evidently\n",
    "print(evidently.__version__)\n"
   ]
  },
  {
   "cell_type": "code",
   "execution_count": 69,
   "id": "7ecc8281",
   "metadata": {},
   "outputs": [],
   "source": [
    "import json\n",
    "\n",
    "report = report.json()\n",
    "json_report = json.loads(report)"
   ]
  },
  {
   "cell_type": "code",
   "execution_count": 71,
   "id": "ddbe619e",
   "metadata": {},
   "outputs": [
    {
     "data": {
      "text/plain": [
       "'{\"metrics\": [{\"id\": \"15e89f895b482f9b84ba7274ed18a106\", \"metric_id\": \"DriftedColumnsCount(drift_share=0.5)\", \"value\": {\"count\": 0.0, \"share\": 0.0}}, {\"id\": \"f65f425cca5bb430ff31fa97f9007413\", \"metric_id\": \"ValueDrift(column=Hours_Studied)\", \"value\": 0.05917675151607156}, {\"id\": \"93e3a3d31b8985444e68001d801463a7\", \"metric_id\": \"ValueDrift(column=Attendance)\", \"value\": 0.055057427766825706}, {\"id\": \"6ac64dce9c5f8987a221a77d76ff9a97\", \"metric_id\": \"ValueDrift(column=Previous_Scores)\", \"value\": 0.0517642158553083}, {\"id\": \"e544b3cb605de2deb12d0581f4b72de4\", \"metric_id\": \"ValueDrift(column=Exam_Score)\", \"value\": 0.07137650328438926}, {\"id\": \"e2d1b944f7a41a3b44fc8f7c26bd548d\", \"metric_id\": \"ValueDrift(column=Parental_Involvement)\", \"value\": 0.02683079039482027}, {\"id\": \"0ac4a383d38de0c694d1f899d8f3cbe9\", \"metric_id\": \"ValueDrift(column=Access_to_Resources)\", \"value\": 0.014832168951986843}, {\"id\": \"e648bb0d245ee0a5e4d8a604640d709c\", \"metric_id\": \"ValueDrift(column=Extracurricular_Activities)\", \"value\": 0.014247486360470069}, {\"id\": \"dabf37eca69d4eb15cefa25cbc84e7d3\", \"metric_id\": \"ValueDrift(column=Sleep_Hours)\", \"value\": 0.017341184718862743}, {\"id\": \"124c747586809603d7c95ed0576be0a7\", \"metric_id\": \"ValueDrift(column=Motivation_Level)\", \"value\": 0.00891768824605011}, {\"id\": \"ce674589bd81ac37cb8c3771986d99fd\", \"metric_id\": \"ValueDrift(column=Internet_Access)\", \"value\": 0.008766878720605763}, {\"id\": \"4e9d181586ae7be09b2f910d10d0d02b\", \"metric_id\": \"ValueDrift(column=Tutoring_Sessions)\", \"value\": 0.03713165873422158}, {\"id\": \"37684500c982931f4c196ded97d27d0f\", \"metric_id\": \"ValueDrift(column=Family_Income)\", \"value\": 0.014988551273276345}, {\"id\": \"73e4e1392d1a0edebb9a68eb7636c312\", \"metric_id\": \"ValueDrift(column=Teacher_Quality)\", \"value\": 0.027343742439140856}, {\"id\": \"e42de15ed26e3c785e48181e7462995e\", \"metric_id\": \"ValueDrift(column=School_Type)\", \"value\": 0.017544717885311673}, {\"id\": \"ad8e6ed0754e14fcfd8f726d192f5d7b\", \"metric_id\": \"ValueDrift(column=Peer_Influence)\", \"value\": 0.016449266166091523}, {\"id\": \"186f9e89220da01df830247336585f3b\", \"metric_id\": \"ValueDrift(column=Physical_Activity)\", \"value\": 0.031544249280134044}, {\"id\": \"128f8406cb05539d80e240b68409b5af\", \"metric_id\": \"ValueDrift(column=Learning_Disabilities)\", \"value\": 0.010704910240050762}, {\"id\": \"2587522ce94712c8ef98b56438647ec5\", \"metric_id\": \"ValueDrift(column=Parental_Education_Level)\", \"value\": 0.01757967840864436}, {\"id\": \"f3995ad358ada7903f76f6d5efcd5130\", \"metric_id\": \"ValueDrift(column=Distance_from_Home)\", \"value\": 0.0015052148485311396}, {\"id\": \"36230dcfc62097d9b2725a795000a999\", \"metric_id\": \"ValueDrift(column=Gender)\", \"value\": 0.019005237881011928}], \"tests\": []}'"
      ]
     },
     "execution_count": 71,
     "metadata": {},
     "output_type": "execute_result"
    }
   ],
   "source": [
    "\n",
    "report"
   ]
  },
  {
   "cell_type": "code",
   "execution_count": 53,
   "id": "fe8bbf59",
   "metadata": {},
   "outputs": [
    {
     "ename": "KeyError",
     "evalue": "'data_drift'",
     "output_type": "error",
     "traceback": [
      "\u001b[1;31m---------------------------------------------------------------------------\u001b[0m",
      "\u001b[1;31mKeyError\u001b[0m                                  Traceback (most recent call last)",
      "Cell \u001b[1;32mIn[53], line 1\u001b[0m\n\u001b[1;32m----> 1\u001b[0m \u001b[43mjson_report\u001b[49m\u001b[43m[\u001b[49m\u001b[38;5;124;43m\"\u001b[39;49m\u001b[38;5;124;43mdata_drift\u001b[39;49m\u001b[38;5;124;43m\"\u001b[39;49m\u001b[43m]\u001b[49m[\u001b[38;5;124m\"\u001b[39m\u001b[38;5;124mdata\u001b[39m\u001b[38;5;124m\"\u001b[39m][\u001b[38;5;124m\"\u001b[39m\u001b[38;5;124mmetrics\u001b[39m\u001b[38;5;124m\"\u001b[39m][\u001b[38;5;124m\"\u001b[39m\u001b[38;5;124mn_features\u001b[39m\u001b[38;5;124m\"\u001b[39m]\n",
      "\u001b[1;31mKeyError\u001b[0m: 'data_drift'"
     ]
    }
   ],
   "source": [
    "json_report[\"data_drift\"][\"data\"][\"metrics\"][\"n_features\"]"
   ]
  },
  {
   "cell_type": "code",
   "execution_count": 36,
   "id": "726f6176",
   "metadata": {},
   "outputs": [
    {
     "data": {
      "text/plain": [
       "21"
      ]
     },
     "execution_count": 36,
     "metadata": {},
     "output_type": "execute_result"
    }
   ],
   "source": [
    "len(json_report['metrics'])"
   ]
  },
  {
   "cell_type": "code",
   "execution_count": 37,
   "id": "af6b8346",
   "metadata": {},
   "outputs": [
    {
     "name": "stdout",
     "output_type": "stream",
     "text": [
      "{'id': 'f65f425cca5bb430ff31fa97f9007413', 'metric_id': 'ValueDrift(column=Hours_Studied)', 'value': 0.05917675151607156}\n",
      "{'id': '93e3a3d31b8985444e68001d801463a7', 'metric_id': 'ValueDrift(column=Attendance)', 'value': 0.055057427766825706}\n",
      "{'id': '6ac64dce9c5f8987a221a77d76ff9a97', 'metric_id': 'ValueDrift(column=Previous_Scores)', 'value': 0.0517642158553083}\n",
      "{'id': 'e544b3cb605de2deb12d0581f4b72de4', 'metric_id': 'ValueDrift(column=Exam_Score)', 'value': 0.07137650328438926}\n",
      "{'id': 'e2d1b944f7a41a3b44fc8f7c26bd548d', 'metric_id': 'ValueDrift(column=Parental_Involvement)', 'value': 0.02683079039482027}\n",
      "{'id': '0ac4a383d38de0c694d1f899d8f3cbe9', 'metric_id': 'ValueDrift(column=Access_to_Resources)', 'value': 0.014832168951986843}\n",
      "{'id': 'e648bb0d245ee0a5e4d8a604640d709c', 'metric_id': 'ValueDrift(column=Extracurricular_Activities)', 'value': 0.014247486360470069}\n",
      "{'id': 'dabf37eca69d4eb15cefa25cbc84e7d3', 'metric_id': 'ValueDrift(column=Sleep_Hours)', 'value': 0.017341184718862743}\n",
      "{'id': '124c747586809603d7c95ed0576be0a7', 'metric_id': 'ValueDrift(column=Motivation_Level)', 'value': 0.00891768824605011}\n",
      "{'id': 'ce674589bd81ac37cb8c3771986d99fd', 'metric_id': 'ValueDrift(column=Internet_Access)', 'value': 0.008766878720605763}\n",
      "{'id': '4e9d181586ae7be09b2f910d10d0d02b', 'metric_id': 'ValueDrift(column=Tutoring_Sessions)', 'value': 0.03713165873422158}\n",
      "{'id': '37684500c982931f4c196ded97d27d0f', 'metric_id': 'ValueDrift(column=Family_Income)', 'value': 0.014988551273276345}\n",
      "{'id': '73e4e1392d1a0edebb9a68eb7636c312', 'metric_id': 'ValueDrift(column=Teacher_Quality)', 'value': 0.027343742439140856}\n",
      "{'id': 'e42de15ed26e3c785e48181e7462995e', 'metric_id': 'ValueDrift(column=School_Type)', 'value': 0.017544717885311673}\n",
      "{'id': 'ad8e6ed0754e14fcfd8f726d192f5d7b', 'metric_id': 'ValueDrift(column=Peer_Influence)', 'value': 0.016449266166091523}\n",
      "{'id': '186f9e89220da01df830247336585f3b', 'metric_id': 'ValueDrift(column=Physical_Activity)', 'value': 0.031544249280134044}\n",
      "{'id': '128f8406cb05539d80e240b68409b5af', 'metric_id': 'ValueDrift(column=Learning_Disabilities)', 'value': 0.010704910240050762}\n",
      "{'id': '2587522ce94712c8ef98b56438647ec5', 'metric_id': 'ValueDrift(column=Parental_Education_Level)', 'value': 0.01757967840864436}\n",
      "{'id': 'f3995ad358ada7903f76f6d5efcd5130', 'metric_id': 'ValueDrift(column=Distance_from_Home)', 'value': 0.0015052148485311396}\n",
      "{'id': '36230dcfc62097d9b2725a795000a999', 'metric_id': 'ValueDrift(column=Gender)', 'value': 0.019005237881011928}\n"
     ]
    }
   ],
   "source": [
    "for i in range(1,len(json_report['metrics'])):\n",
    "    print(json_report['metrics'][i])"
   ]
  },
  {
   "cell_type": "code",
   "execution_count": 12,
   "id": "b1cb5450",
   "metadata": {},
   "outputs": [],
   "source": [
    "data = report.json()"
   ]
  },
  {
   "cell_type": "code",
   "execution_count": 9,
   "id": "78fea038",
   "metadata": {},
   "outputs": [],
   "source": [
    "report.save_html(\"test.html\")"
   ]
  },
  {
   "cell_type": "code",
   "execution_count": 20,
   "id": "3121276b",
   "metadata": {},
   "outputs": [],
   "source": [
    "import json"
   ]
  },
  {
   "cell_type": "code",
   "execution_count": 22,
   "id": "dcc3ae81",
   "metadata": {},
   "outputs": [
    {
     "ename": "AttributeError",
     "evalue": "'str' object has no attribute 'read'",
     "output_type": "error",
     "traceback": [
      "\u001b[1;31m---------------------------------------------------------------------------\u001b[0m",
      "\u001b[1;31mAttributeError\u001b[0m                            Traceback (most recent call last)",
      "Cell \u001b[1;32mIn[22], line 1\u001b[0m\n\u001b[1;32m----> 1\u001b[0m json_data \u001b[38;5;241m=\u001b[39m \u001b[43mjson\u001b[49m\u001b[38;5;241;43m.\u001b[39;49m\u001b[43mload\u001b[49m\u001b[43m(\u001b[49m\u001b[43mdata\u001b[49m\u001b[43m)\u001b[49m\n",
      "File \u001b[1;32m~\\AppData\\Local\\Programs\\Python\\Python310\\lib\\json\\__init__.py:293\u001b[0m, in \u001b[0;36mload\u001b[1;34m(fp, cls, object_hook, parse_float, parse_int, parse_constant, object_pairs_hook, **kw)\u001b[0m\n\u001b[0;32m    274\u001b[0m \u001b[38;5;28;01mdef\u001b[39;00m\u001b[38;5;250m \u001b[39m\u001b[38;5;21mload\u001b[39m(fp, \u001b[38;5;241m*\u001b[39m, \u001b[38;5;28mcls\u001b[39m\u001b[38;5;241m=\u001b[39m\u001b[38;5;28;01mNone\u001b[39;00m, object_hook\u001b[38;5;241m=\u001b[39m\u001b[38;5;28;01mNone\u001b[39;00m, parse_float\u001b[38;5;241m=\u001b[39m\u001b[38;5;28;01mNone\u001b[39;00m,\n\u001b[0;32m    275\u001b[0m         parse_int\u001b[38;5;241m=\u001b[39m\u001b[38;5;28;01mNone\u001b[39;00m, parse_constant\u001b[38;5;241m=\u001b[39m\u001b[38;5;28;01mNone\u001b[39;00m, object_pairs_hook\u001b[38;5;241m=\u001b[39m\u001b[38;5;28;01mNone\u001b[39;00m, \u001b[38;5;241m*\u001b[39m\u001b[38;5;241m*\u001b[39mkw):\n\u001b[0;32m    276\u001b[0m \u001b[38;5;250m    \u001b[39m\u001b[38;5;124;03m\"\"\"Deserialize ``fp`` (a ``.read()``-supporting file-like object containing\u001b[39;00m\n\u001b[0;32m    277\u001b[0m \u001b[38;5;124;03m    a JSON document) to a Python object.\u001b[39;00m\n\u001b[0;32m    278\u001b[0m \n\u001b[1;32m   (...)\u001b[0m\n\u001b[0;32m    291\u001b[0m \u001b[38;5;124;03m    kwarg; otherwise ``JSONDecoder`` is used.\u001b[39;00m\n\u001b[0;32m    292\u001b[0m \u001b[38;5;124;03m    \"\"\"\u001b[39;00m\n\u001b[1;32m--> 293\u001b[0m     \u001b[38;5;28;01mreturn\u001b[39;00m loads(\u001b[43mfp\u001b[49m\u001b[38;5;241;43m.\u001b[39;49m\u001b[43mread\u001b[49m(),\n\u001b[0;32m    294\u001b[0m         \u001b[38;5;28mcls\u001b[39m\u001b[38;5;241m=\u001b[39m\u001b[38;5;28mcls\u001b[39m, object_hook\u001b[38;5;241m=\u001b[39mobject_hook,\n\u001b[0;32m    295\u001b[0m         parse_float\u001b[38;5;241m=\u001b[39mparse_float, parse_int\u001b[38;5;241m=\u001b[39mparse_int,\n\u001b[0;32m    296\u001b[0m         parse_constant\u001b[38;5;241m=\u001b[39mparse_constant, object_pairs_hook\u001b[38;5;241m=\u001b[39mobject_pairs_hook, \u001b[38;5;241m*\u001b[39m\u001b[38;5;241m*\u001b[39mkw)\n",
      "\u001b[1;31mAttributeError\u001b[0m: 'str' object has no attribute 'read'"
     ]
    }
   ],
   "source": [
    "json_data = json.load(data)"
   ]
  },
  {
   "cell_type": "code",
   "execution_count": null,
   "id": "b343922a",
   "metadata": {},
   "outputs": [],
   "source": []
  }
 ],
 "metadata": {
  "kernelspec": {
   "display_name": "venv",
   "language": "python",
   "name": "python3"
  },
  "language_info": {
   "codemirror_mode": {
    "name": "ipython",
    "version": 3
   },
   "file_extension": ".py",
   "mimetype": "text/x-python",
   "name": "python",
   "nbconvert_exporter": "python",
   "pygments_lexer": "ipython3",
   "version": "3.10.11"
  }
 },
 "nbformat": 4,
 "nbformat_minor": 5
}
